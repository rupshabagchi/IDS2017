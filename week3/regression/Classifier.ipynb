{
 "cells": [
  {
   "cell_type": "code",
   "execution_count": 7,
   "metadata": {},
   "outputs": [
    {
     "name": "stderr",
     "output_type": "stream",
     "text": [
      "/usr/local/lib/python3.5/dist-packages/sklearn/model_selection/_split.py:2010: FutureWarning: From version 0.21, test_size will always complement train_size unless both are specified.\n",
      "  FutureWarning)\n"
     ]
    },
    {
     "name": "stdout",
     "output_type": "stream",
     "text": [
      "training_data size =  1024\n",
      "test_data size =  1024\n",
      "Real data\n",
      "['1' '9' '0' '8' '5' '3' '3' '7' '8' '8' '8' '7' '9' '9' '2' '2' '9' '5'\n",
      " '1' '6' '2' '0' '9' '7' '5' '2' '3' '2' '8' '6' '0' '0' '7' '0' '6' '1'\n",
      " '8' '2' '8' '9' '0' '2' '1' '2' '0' '3' '0' '1' '0' '6' '0' '6' '8' '6'\n",
      " '8' '9' '1' '4' '6' '7' '8' '9' '3' '1' '4' '0' '4' '3' '7' '2' '4' '0'\n",
      " '3' '3' '8' '9' '3' '0' '7' '3' '1' '5' '3' '0' '9' '2' '9' '9' '7' '8'\n",
      " '4' '4' '8' '4' '0' '2' '1' '1' '0' '0' '6' '2' '7' '3' '3' '0' '0' '1'\n",
      " '3' '1' '6' '1' '2' '1' '1' '5' '6' '9' '5' '0' '8' '9' '5' '0' '2' '9'\n",
      " '5' '1' '8' '8' '9' '9' '5' '2' '3' '3' '5' '8' '5' '4' '0' '3' '5' '1'\n",
      " '0' '7' '4' '0' '3' '8' '5' '8' '3' '3' '2' '0' '1' '1' '0' '2' '6' '0'\n",
      " '8' '1' '4' '0' '9' '2' '3' '8' '2' '2' '1' '4' '9' '6' '0' '0' '9' '1'\n",
      " '3' '9' '7' '5' '5' '3' '0' '1' '2' '0' '2' '5' '7' '6' '7' '4' '2' '6'\n",
      " '5' '8' '5' '1' '8' '1']\n",
      "Majority classifier result\n",
      "['0' '0' '0' '0' '0' '0' '0' '0' '0' '0' '0' '0' '0' '0' '0' '0' '0' '0'\n",
      " '0' '0' '0' '0' '0' '0' '0' '0' '0' '0' '0' '0' '0' '0' '0' '0' '0' '0'\n",
      " '0' '0' '0' '0' '0' '0' '0' '0' '0' '0' '0' '0' '0' '0' '0' '0' '0' '0'\n",
      " '0' '0' '0' '0' '0' '0' '0' '0' '0' '0' '0' '0' '0' '0' '0' '0' '0' '0'\n",
      " '0' '0' '0' '0' '0' '0' '0' '0' '0' '0' '0' '0' '0' '0' '0' '0' '0' '0'\n",
      " '0' '0' '0' '0' '0' '0' '0' '0' '0' '0' '0' '0' '0' '0' '0' '0' '0' '0'\n",
      " '0' '0' '0' '0' '0' '0' '0' '0' '0' '0' '0' '0' '0' '0' '0' '0' '0' '0'\n",
      " '0' '0' '0' '0' '0' '0' '0' '0' '0' '0' '0' '0' '0' '0' '0' '0' '0' '0'\n",
      " '0' '0' '0' '0' '0' '0' '0' '0' '0' '0' '0' '0' '0' '0' '0' '0' '0' '0'\n",
      " '0' '0' '0' '0' '0' '0' '0' '0' '0' '0' '0' '0' '0' '0' '0' '0' '0' '0'\n",
      " '0' '0' '0' '0' '0' '0' '0' '0' '0' '0' '0' '0' '0' '0' '0' '0' '0' '0'\n",
      " '0' '0' '0' '0' '0' '0']\n",
      "Majority classifier accuracy: 0.156862745098\n",
      "OVR predictor result\n",
      "['1' '9' '0' '5' '5' '3' '9' '7' '8' '3' '6' '7' '5' '9' '2' '2' '9' '5'\n",
      " '1' '6' '2' '0' '9' '7' '6' '2' '3' '2' '3' '6' '0' '0' '7' '0' '6' '1'\n",
      " '8' '2' '6' '5' '0' '2' '1' '2' '0' '3' '0' '1' '0' '6' '0' '6' '8' '6'\n",
      " '8' '9' '1' '4' '6' '7' '8' '5' '3' '1' '4' '0' '1' '5' '7' '2' '4' '0'\n",
      " '3' '3' '8' '0' '3' '0' '7' '3' '1' '5' '3' '0' '9' '2' '3' '9' '7' '8'\n",
      " '1' '1' '8' '4' '0' '2' '1' '1' '0' '0' '6' '2' '7' '3' '3' '0' '0' '1'\n",
      " '3' '1' '6' '1' '2' '1' '1' '5' '6' '9' '5' '0' '5' '9' '5' '0' '2' '5'\n",
      " '5' '1' '8' '8' '9' '9' '5' '2' '9' '3' '5' '8' '5' '4' '0' '9' '5' '1'\n",
      " '0' '7' '4' '2' '3' '8' '5' '8' '3' '3' '2' '0' '1' '1' '0' '5' '6' '0'\n",
      " '6' '1' '4' '0' '9' '2' '3' '8' '2' '2' '1' '1' '9' '6' '0' '0' '9' '1'\n",
      " '3' '9' '7' '5' '5' '3' '0' '1' '2' '0' '2' '5' '7' '6' '7' '4' '2' '6'\n",
      " '5' '8' '5' '1' '8' '1']\n",
      "OVR accuracy: 0.882352941176\n"
     ]
    }
   ],
   "source": [
    "import numpy as np\n",
    "import scipy.misc\n",
    "import pandas as pd\n",
    "import matplotlib.pyplot as plt\n",
    "from sklearn.model_selection import train_test_split\n",
    "from sklearn.multiclass import OneVsRestClassifier\n",
    "from sklearn.linear_model import LogisticRegression\n",
    "from sklearn.dummy import DummyClassifier\n",
    "from sklearn.metrics import accuracy_score\n",
    "df = pd.read_csv('hasy-data-labels.csv')\n",
    "df = df[df.symbol_id >= 70]\n",
    "df = df[df.symbol_id <= 80]\n",
    "data_vect = []\n",
    "targets = []\n",
    "for index, row in df.iterrows():\n",
    "    img = scipy.misc.imread(row['path'], 1, 'L')\n",
    "    img = img.flatten()\n",
    "    data_vect.append(img)\n",
    "    targets.append(row['latex'])\n",
    "#split into train and test\n",
    "training_data, test_data, train_target, test_target = train_test_split(data_vect, targets, train_size=0.8)\n",
    "print('training_data size = ', len(training_data[0]))\n",
    "print('test_data size = ', len(test_data[0]))\n",
    "model = LogisticRegression()\n",
    "ovr = OneVsRestClassifier(model).fit(training_data, train_target)\n",
    "#fitting the data to a majority classifier\n",
    "dummy = DummyClassifier('most_frequent')\n",
    "dummy.fit(training_data, train_target)\n",
    "#predicting & comparing\n",
    "predictedOvr = ovr.predict(test_data)\n",
    "predictedDummy = dummy.predict(test_data)\n",
    "print('Real data')\n",
    "print(np.asarray(test_target))\n",
    "print('Majority classifier result')\n",
    "print(predictedDummy)\n",
    "print('Majority classifier accuracy:', accuracy_score(test_target,predictedDummy))\n",
    "print('OVR predictor result')\n",
    "print(predictedOvr)\n",
    "print('OVR accuracy:', accuracy_score(test_target,predictedOvr))"
   ]
  },
  {
   "cell_type": "code",
   "execution_count": 8,
   "metadata": {},
   "outputs": [
    {
     "data": {
      "image/png": "[encoded data removed]",
      "text/plain": [
       "<matplotlib.figure.Figure at 0x7f548c564b70>"
      ]
     },
     "metadata": {},
     "output_type": "display_data"
    }
   ],
   "source": [
    "fig = plt.figure(9)\n",
    "k = 331 #hardcoded subplot code to generate 3x3 subplots using the loop\n",
    "for i in range(0, len(test_target)):\n",
    "    if(test_target[i]!=predictedOvr[i]):\n",
    "        im = test_data[i].reshape((32,32))\n",
    "        ax = plt.subplot(k)\n",
    "        ax.set_axis_off()\n",
    "        ax.title.set_text(\"Predicted: \"+predictedOvr[i]+\"(\"+test_target[i]+\")\")\n",
    "        plt.imshow(im)\n",
    "        # again hardcoded so it breaks after we have eg 9 samples to show\n",
    "        k+=1\n",
    "        if(k>339):\n",
    "            break\n",
    "plt.tight_layout()\n",
    "plt.show()"
   ]
  },
  {
   "cell_type": "code",
   "execution_count": null,
   "metadata": {
    "collapsed": true
   },
   "outputs": [],
   "source": []
  }
 ],
 "metadata": {
  "kernelspec": {
   "display_name": "Python 3",
   "language": "python",
   "name": "python3"
  },
  "language_info": {
   "codemirror_mode": {
    "name": "ipython",
    "version": 3
   },
   "file_extension": ".py",
   "mimetype": "text/x-python",
   "name": "python",
   "nbconvert_exporter": "python",
   "pygments_lexer": "ipython3",
   "version": "3.5.2"
  }
 },
 "nbformat": 4,
 "nbformat_minor": 2
}
