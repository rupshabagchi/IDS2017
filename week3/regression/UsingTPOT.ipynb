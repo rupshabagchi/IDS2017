{
 "cells": [
  {
   "cell_type": "code",
   "execution_count": 1,
   "metadata": {},
   "outputs": [
    {
     "data": {
      "text/plain": [
       "(1020, 4)"
      ]
     },
     "execution_count": 1,
     "metadata": {},
     "output_type": "execute_result"
    }
   ],
   "source": [
    "import pandas \n",
    "import numpy as np\n",
    "labels = pandas.read_csv('hasy-data-labels.csv')\n",
    "include = np.arange(70, 80, 1)\n",
    "y = labels.loc[labels['symbol_id'].isin(include)]\n",
    "y.shape"
   ]
  },
  {
   "cell_type": "code",
   "execution_count": 1,
   "metadata": {},
   "outputs": [
    {
     "ename": "NameError",
     "evalue": "name 'y' is not defined",
     "output_type": "error",
     "traceback": [
      "\u001b[0;31m---------------------------------------------------------------------------\u001b[0m",
      "\u001b[0;31mNameError\u001b[0m                                 Traceback (most recent call last)",
      "\u001b[0;32m<ipython-input-1-c365f551a61d>\u001b[0m in \u001b[0;36m<module>\u001b[0;34m()\u001b[0m\n\u001b[1;32m      1\u001b[0m \u001b[0;32mfrom\u001b[0m \u001b[0mscipy\u001b[0m\u001b[0;34m.\u001b[0m\u001b[0mmisc\u001b[0m \u001b[0;32mimport\u001b[0m \u001b[0mimread\u001b[0m\u001b[0;34m\u001b[0m\u001b[0m\n\u001b[1;32m      2\u001b[0m \u001b[0msamples\u001b[0m \u001b[0;34m=\u001b[0m \u001b[0;34m[\u001b[0m\u001b[0;34m]\u001b[0m\u001b[0;34m\u001b[0m\u001b[0m\n\u001b[0;32m----> 3\u001b[0;31m \u001b[0;32mfor\u001b[0m \u001b[0mfilename\u001b[0m \u001b[0;32min\u001b[0m \u001b[0my\u001b[0m\u001b[0;34m[\u001b[0m\u001b[0;34m\"path\"\u001b[0m\u001b[0;34m]\u001b[0m\u001b[0;34m:\u001b[0m\u001b[0;34m\u001b[0m\u001b[0m\n\u001b[0m\u001b[1;32m      4\u001b[0m     \u001b[0mimg\u001b[0m \u001b[0;34m=\u001b[0m \u001b[0mimread\u001b[0m\u001b[0;34m(\u001b[0m\u001b[0mfilename\u001b[0m\u001b[0;34m,\u001b[0m \u001b[0mmode\u001b[0m\u001b[0;34m=\u001b[0m\u001b[0;34m'L'\u001b[0m\u001b[0;34m)\u001b[0m\u001b[0;34m.\u001b[0m\u001b[0mreshape\u001b[0m\u001b[0;34m(\u001b[0m\u001b[0;34m-\u001b[0m\u001b[0;36m1\u001b[0m\u001b[0;34m)\u001b[0m\u001b[0;34m\u001b[0m\u001b[0m\n\u001b[1;32m      5\u001b[0m     \u001b[0msamples\u001b[0m\u001b[0;34m.\u001b[0m\u001b[0mappend\u001b[0m\u001b[0;34m(\u001b[0m\u001b[0mimg\u001b[0m\u001b[0;34m)\u001b[0m\u001b[0;34m\u001b[0m\u001b[0m\n",
      "\u001b[0;31mNameError\u001b[0m: name 'y' is not defined"
     ]
    }
   ],
   "source": [
    "from scipy.misc import imread\n",
    "samples = []\n",
    "for filename in y[\"path\"]:\n",
    "    img = imread(filename, mode='L').reshape(-1)\n",
    "    samples.append(img)\n",
    "X = pandas.DataFrame.from_records(samples).as_matrix()\n",
    "print(X.shape, y.shape)"
   ]
  },
  {
   "cell_type": "code",
   "execution_count": 6,
   "metadata": {},
   "outputs": [
    {
     "name": "stdout",
     "output_type": "stream",
     "text": [
      "(816, 1024) (816,) (204, 1024) (204,)\n"
     ]
    }
   ],
   "source": [
    "#split and shuffle data into train and test\n",
    "from sklearn.utils import shuffle\n",
    "X, y = shuffle(X, y)\n",
    "X_train = X[:int(X.shape[0] * 0.8), :]\n",
    "y_train = y[\"symbol_id\"].as_matrix()[:int(y.shape[0] * 0.8)]\n",
    "X_test = X[int(X.shape[0] * 0.8):, :]\n",
    "y_test = y[\"symbol_id\"].as_matrix()[int(y.shape[0] * 0.8):]\n",
    "print(X_train.shape, y_train.shape, X_test.shape, y_test.shape)"
   ]
  },
  {
   "cell_type": "code",
   "execution_count": 8,
   "metadata": {},
   "outputs": [
    {
     "name": "stdout",
     "output_type": "stream",
     "text": [
      "0.843137254902\n"
     ]
    }
   ],
   "source": [
    "from sklearn.linear_model import LogisticRegression\n",
    "from sklearn.metrics import accuracy_score\n",
    "lr = LogisticRegression()\n",
    "lr.fit(X_train, y_train)\n",
    "print(accuracy_score(y_test, lr.predict(X_test)))"
   ]
  },
  {
   "cell_type": "code",
   "execution_count": 9,
   "metadata": {},
   "outputs": [
    {
     "name": "stdout",
     "output_type": "stream",
     "text": [
      "0.122549019608\n"
     ]
    }
   ],
   "source": [
    "# Naive classifier\n",
    "from scipy import stats\n",
    "def naive_classify(y_train, X_test):\n",
    "    most_common = int(stats.mode(y_train).mode[0])\n",
    "    return np.ones(X_test.shape[0]) * most_common\n",
    "print(accuracy_score(y_test, naive_classify(y_train, X_test)))"
   ]
  },
  {
   "cell_type": "code",
   "execution_count": 12,
   "metadata": {},
   "outputs": [
    {
     "name": "stdout",
     "output_type": "stream",
     "text": [
      "0.754901960784\n"
     ]
    },
    {
     "data": {
      "image/png": "[encoded data removed]",
      "text/plain": [
       "<matplotlib.figure.Figure at 0x7f4b443797b8>"
      ]
     },
     "metadata": {},
     "output_type": "display_data"
    }
   ],
   "source": [
    "#random forest classifier\n",
    "from sklearn.ensemble import RandomForestClassifier\n",
    "from sklearn.ensemble import RandomForestClassifier\n",
    "import matplotlib.pyplot as plt\n",
    "rf = RandomForestClassifier()\n",
    "rf.fit(X_train, y_train)\n",
    "print(accuracy_score(y_test, rf.predict(X_test)))\n",
    "accs = []\n",
    "trees = np.arange(10, 200, 10)\n",
    "for i in trees:\n",
    "    rf = RandomForestClassifier(n_estimators=i)\n",
    "    rf.fit(X_train, y_train)\n",
    "\n",
    "    acc = accuracy_score(y_test, rf.predict(X_test))\n",
    "    accs.append(acc)\n",
    "plt.plot(trees, accs)\n",
    "plt.show()"
   ]
  },
  {
   "cell_type": "code",
   "execution_count": 15,
   "metadata": {},
   "outputs": [
    {
     "name": "stdout",
     "output_type": "stream",
     "text": [
      "(816, 1024) (816,) (102, 1024) (102,) (102, 1024) (102,)\n",
      "best val acc 800\n",
      "0.892156862745\n"
     ]
    }
   ],
   "source": [
    "#reshuffle data into test, validation and train\n",
    "from sklearn.utils import shuffle\n",
    "X, y = shuffle(X, y)\n",
    "train_part = int(X.shape[0] * 0.8)\n",
    "val_part = int(X.shape[0] * 0.1)\n",
    "X_train = X[:train_part, :]\n",
    "y_train = y[\"symbol_id\"].as_matrix()[:train_part]\n",
    "X_val = X[train_part: train_part + val_part, :]\n",
    "y_val = y[\"symbol_id\"].as_matrix()[train_part: train_part + val_part:]\n",
    "X_test = X[train_part + val_part:, :]\n",
    "y_test = y[\"symbol_id\"].as_matrix()[train_part + val_part:]\n",
    "print(X_train.shape, y_train.shape, X_val.shape, y_val.shape, X_test.shape, y_test.shape)\n",
    "sizes = np.arange(100, 1000, 100)\n",
    "val_accs = np.zeros(len(sizes))\n",
    "classifiers = []\n",
    "for idx, size in enumerate(sizes):\n",
    "    rf = RandomForestClassifier(n_estimators=size)\n",
    "    rf.fit(X_train, y_train)\n",
    "\n",
    "    acc = accuracy_score(y_val, rf.predict(X_val))\n",
    "    val_accs[idx] = acc\n",
    "    classifiers.append(rf)\n",
    "print(\"best val acc\", sizes[np.argmax(val_accs)])\n",
    "best = classifiers[np.argmax(val_accs)]\n",
    "print(accuracy_score(y_test, best.predict(X_test)))"
   ]
  },
  {
   "cell_type": "code",
   "execution_count": 17,
   "metadata": {},
   "outputs": [
    {
     "name": "stdout",
     "output_type": "stream",
     "text": [
      "Warning: xgboost.XGBClassifier is not available and will not be used by TPOT.\n"
     ]
    },
    {
     "name": "stderr",
     "output_type": "stream",
     "text": [
      "Optimization Progress:  50%|█████     | 6/12 [01:41<01:23, 13.96s/pipeline]"
     ]
    },
    {
     "name": "stdout",
     "output_type": "stream",
     "text": [
      "Generation 1 - Current best internal CV score: 0.7668451438516171\n"
     ]
    },
    {
     "name": "stderr",
     "output_type": "stream",
     "text": [
      "Optimization Progress:  75%|███████▌  | 9/12 [02:20<00:36, 12.04s/pipeline]"
     ]
    },
    {
     "name": "stdout",
     "output_type": "stream",
     "text": [
      "Generation 2 - Current best internal CV score: 0.7669242004381214\n"
     ]
    },
    {
     "name": "stderr",
     "output_type": "stream",
     "text": [
      "                                                                            \r"
     ]
    },
    {
     "name": "stdout",
     "output_type": "stream",
     "text": [
      "Generation 3 - Current best internal CV score: 0.7977933496750251\n",
      "\n",
      "Best pipeline: RandomForestClassifier(ZeroCount(input_matrix), bootstrap=True, criterion=entropy, max_features=0.1, min_samples_leaf=1, min_samples_split=13, n_estimators=100)\n",
      "0.823529411765\n"
     ]
    }
   ],
   "source": [
    "#TPOT\n",
    "from tpot import TPOTClassifier\n",
    "tpot = TPOTClassifier(generations=3, population_size=3, verbosity=2, max_eval_time_mins=1)\n",
    "tpot.fit(X_train, y_train)\n",
    "print(tpot.score(X_test, y_test))"
   ]
  }
 ],
 "metadata": {
  "kernelspec": {
   "display_name": "Python 3",
   "language": "python",
   "name": "python3"
  },
  "language_info": {
   "codemirror_mode": {
    "name": "ipython",
    "version": 3
   },
   "file_extension": ".py",
   "mimetype": "text/x-python",
   "name": "python",
   "nbconvert_exporter": "python",
   "pygments_lexer": "ipython3",
   "version": "3.5.2"
  }
 },
 "nbformat": 4,
 "nbformat_minor": 2
}
