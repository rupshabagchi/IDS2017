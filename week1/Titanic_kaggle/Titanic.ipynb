{
 "cells": [
  {
   "cell_type": "code",
   "execution_count": 3,
   "metadata": {},
   "outputs": [],
   "source": [
    "import json\n",
    "import numpy as np\n",
    "import pandas as pd\n",
    "\n",
    "data = pd.read_csv(\"titanic_test.csv\")\n",
    "\n",
    "categorical_values = [\"Sex\", \"Embarked\", \"Cabin\"]\n",
    "values_to_remove = [\"Ticket\", \"Name\"]\n",
    "\n",
    "# Turn categorical values into numbers instead of strings\n",
    "for val in categorical_values:\n",
    "    data[val] = data[val].astype('category')\n",
    "\n",
    "cat_columns = data.select_dtypes(['category']).columns\n",
    "data[cat_columns] = data[cat_columns].apply(lambda x: x.cat.codes)\n",
    "\n",
    "# Remove useless columns\n",
    "for val in values_to_remove:\n",
    "    del data[val]\n",
    "\n",
    "# Imputation\n",
    "data.replace(-1, np.NaN, inplace=True)\n",
    "\n",
    "for val in categorical_values:\n",
    "    data[val].fillna(data[val].median(), inplace=True)\n",
    "\n",
    "# Continuous features\n",
    "for val in [\"Age\", \"Fare\", \"Pclass\", \"SibSp\"]:\n",
    "    data[val].fillna(data[val].mean(), inplace=True)\n",
    "\n",
    "with open(\"out.json\", 'w') as f:\n",
    "    f.write(data.to_json(orient=\"records\"));"
   ]
  }
 ],
 "metadata": {
  "kernelspec": {
   "display_name": "Python 3",
   "language": "python",
   "name": "python3"
  },
  "language_info": {
   "codemirror_mode": {
    "name": "ipython",
    "version": 3
   },
   "file_extension": ".py",
   "mimetype": "text/x-python",
   "name": "python",
   "nbconvert_exporter": "python",
   "pygments_lexer": "ipython3",
   "version": "3.5.2"
  }
 },
 "nbformat": 4,
 "nbformat_minor": 2
}
