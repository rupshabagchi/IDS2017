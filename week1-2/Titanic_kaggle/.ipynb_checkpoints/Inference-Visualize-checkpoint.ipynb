{
 "cells": [
  {
   "cell_type": "code",
   "execution_count": null,
   "metadata": {},
   "outputs": [],
   "source": [
    "import pandas as pd\n",
    "\n",
    "#read in last week's output!\n",
    "df = pd.read_csv('titanic_test.csv')\n",
    "\n",
    "#1 - find means & modes!\n",
    "m_surv = df['Survived'].mode()[0]\n",
    "m_pcla = df['Pclass'].mode()[0]\n",
    "m_sex = df['Sex'].mode()[0]\n",
    "m_age = df['Age'].mean()\n",
    "m_sib = df['SibSp'].mean()\n",
    "m_parc = df['Parch'].mean()\n",
    "m_fare = df['Fare'].mean()\n",
    "m_emba = df['Embarked'].mode()[0]\n",
    "m_deck = df['Deck'].mode()[0]\n",
    "\n",
    "\n",
    "#2\n",
    "\n",
    "#prototype average passenger:\n",
    "average_joe = [892, m_surv, m_pcla, m_sex, m_age, m_sib, m_parc, m_fare, m_emba, m_deck]\n",
    "\n",
    "#prototype average survivor Jane (female) & average non-survivor Joe (male):\n",
    "survivors = df[df['Survived'] == 1]\n",
    "nonsurv = df[df['Survived'] == 0]\n",
    "\n",
    "survfemset = survivors[survivors['Sex'] == 0]\t#female survivors set\n",
    "nonsurvmaleset = nonsurv[nonsurv['Sex'] == 1]\t#male non-survivors set\n",
    "\n",
    "survivor_jane = [893, 1, survfemset['Pclass'].mode()[0], 0,\n",
    "survfemset['Age'].mean(), survfemset['SibSp'].mean(),\n",
    "survfemset['Parch'].mean(), survfemset['Fare'].mean(),\n",
    "survfemset['Embarked'].mode()[0], survfemset['Deck'].mode()[0]]\n",
    "\n",
    "nonsurvivor_joe = [894, 0, nonsurvmaleset['Pclass'].mode()[0], 1,\n",
    "nonsurvmaleset['Age'].mean(), nonsurvmaleset['SibSp'].mean(),\n",
    "nonsurvmaleset['Parch'].mean(), nonsurvmaleset['Fare'].mean(),\n",
    "nonsurvmaleset['Embarked'].mode()[0], nonsurvmaleset['Deck'].mode()[0]]"
   ]
  },
  {
   "cell_type": "code",
   "execution_count": null,
   "metadata": {},
   "outputs": [],
   "source": [
    "import header as data\n",
    "fig = plt.figure()\n",
    "ax = fig.add_subplot(111)\n",
    "ax.set_xlabel('Deck')\n",
    "ax.set_ylabel('Passenger Count')\n",
    "\n",
    "yellow_patch = mpatches.Patch(color='y', label='Survived')\n",
    "blue_patch = mpatches.Patch(color='b', label='Not Survived')\n",
    "plt.legend(handles=[yellow_patch, blue_patch])\n",
    "\n",
    "tb = pd.pivot_table(data=data.df, values='PassengerId', index='Deck', columns='Survived', aggfunc='count')\n",
    "bar1=tb[0]\n",
    "bar2=tb[1]\n",
    "\n",
    "x = np.arange(len(bar1))\n",
    "firstb = plt.bar(x, bar1, 0.5, color='b')\n",
    "secondb = plt.bar(x, bar2, 0.5, color='y', bottom=bar1)\n",
    "\n",
    "plt.xticks(x, ([\"%d\" % i for i in range(len(data.df['Deck']))]))\n",
    "plt.show()"
   ]
  },
  {
   "cell_type": "code",
   "execution_count": null,
   "metadata": {
    "collapsed": true
   },
   "outputs": [],
   "source": [
    "fig = plt.figure()\n",
    "ax = fig.add_subplot(111)\n",
    "ax.set_xlabel('Age')\n",
    "ax.set_ylabel('Fare')\n",
    "\n",
    "greenp = mpatches.Patch(color='g', label='Survived')\n",
    "redp = mpatches.Patch(color='r', label='Not Survived')\n",
    "plt.legend(handles=[greenp, redp])\n",
    "\n",
    "plt.axvspan(76, 76, facecolor='g', alpha=1)\n",
    "plt.annotate('Average Joe',xy=(data.average_joe[4],data.average_joe[7]),xytext=(105,70),\n",
    "xycoords='data',textcoords='offset points',arrowprops=dict(arrowstyle=\"-\"))\n",
    "\n",
    "plt.annotate('Survivor Jane',xy=(data.survivor_jane[4],data.survivor_jane[7]),xytext=(105, 90),\n",
    "xycoords='data',textcoords='offset points',arrowprops=dict(arrowstyle=\"-\"))\n",
    "\n",
    "plt.annotate('Non-Survivor Joe',xy=(data.nonsurvivor_joe[4],data.nonsurvivor_joe[7]),xytext=(100,50),\n",
    "xycoords='data',textcoords='offset points',arrowprops=dict(arrowstyle=\"-\"))\n",
    "\n",
    "plt.scatter(data.survivors['Age'], data.survivors['Fare'], s=10, marker='o', c='g', lw=0, alpha=0.7)\n",
    "plt.scatter(data.nonsurv['Age'], data.nonsurv['Fare'], s=10, marker='o', c='r', lw=0, alpha=0.7)\n",
    "plt.scatter(data.average_joe[4], data.average_joe[7], s=60, marker='o', c='k', lw=0)\n",
    "plt.scatter(data.survivor_jane[4], data.survivor_jane[7], s=60, marker='o', c='m', lw=0)\n",
    "plt.scatter(data.nonsurvivor_joe[4], data.nonsurvivor_joe[7], s=60, marker='o', c='b',  lw=0)\n",
    "\n",
    "plt.show()"
   ]
  },
  {
   "cell_type": "code",
   "execution_count": null,
   "metadata": {
    "collapsed": true
   },
   "outputs": [],
   "source": []
  }
 ],
 "metadata": {
  "kernelspec": {
   "display_name": "Python 3",
   "language": "python",
   "name": "python3"
  },
  "language_info": {
   "codemirror_mode": {
    "name": "ipython",
    "version": 3
   },
   "file_extension": ".py",
   "mimetype": "text/x-python",
   "name": "python",
   "nbconvert_exporter": "python",
   "pygments_lexer": "ipython3",
   "version": "3.5.2"
  }
 },
 "nbformat": 4,
 "nbformat_minor": 2
}
